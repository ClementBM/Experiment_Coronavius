{
  "nbformat": 4,
  "nbformat_minor": 0,
  "metadata": {
    "colab": {
      "name": "Coronavirus-Korea-Distribution.ipynb",
      "provenance": [],
      "collapsed_sections": []
    },
    "kernelspec": {
      "name": "python3",
      "display_name": "Python 3"
    }
  },
  "cells": [
    {
      "cell_type": "markdown",
      "metadata": {
        "id": "o9atowQsvbIe",
        "colab_type": "text"
      },
      "source": [
        "# Import Data"
      ]
    },
    {
      "cell_type": "code",
      "metadata": {
        "id": "PQ5k695hvYCR",
        "colab_type": "code",
        "outputId": "b5ff79da-ca73-4a1f-e59f-87768ac1c167",
        "colab": {
          "base_uri": "https://localhost:8080/",
          "height": 146
        }
      },
      "source": [
        "import os\n",
        "\n",
        "!git clone https://github.com/jihoo-kim/Coronavirus-Dataset\n",
        "PATIENT_PATH = \"/content/Coronavirus-Dataset/patient.csv\""
      ],
      "execution_count": 1,
      "outputs": [
        {
          "output_type": "stream",
          "text": [
            "Cloning into 'Coronavirus-Dataset'...\n",
            "remote: Enumerating objects: 3, done.\u001b[K\n",
            "remote: Counting objects: 100% (3/3), done.\u001b[K\n",
            "remote: Compressing objects: 100% (3/3), done.\u001b[K\n",
            "remote: Total 413 (delta 0), reused 0 (delta 0), pack-reused 410\u001b[K\n",
            "Receiving objects: 100% (413/413), 200.91 KiB | 2.64 MiB/s, done.\n",
            "Resolving deltas: 100% (254/254), done.\n"
          ],
          "name": "stdout"
        }
      ]
    },
    {
      "cell_type": "code",
      "metadata": {
        "id": "o0NXOMeUw7eF",
        "colab_type": "code",
        "outputId": "0e8b7731-adbc-4ee8-e6d3-6f79da8f9376",
        "colab": {
          "base_uri": "https://localhost:8080/",
          "height": 127
        }
      },
      "source": [
        "import os\n",
        "\n",
        "!git clone https://github.com/ClementBM/Experiment_Coronavius.git\n",
        "PYRAMID_PATH = \"/content/Experiment_Coronavius/data/population-pyramid-south-korea.csv\""
      ],
      "execution_count": 2,
      "outputs": [
        {
          "output_type": "stream",
          "text": [
            "Cloning into 'Experiment_Coronavius'...\n",
            "remote: Enumerating objects: 19, done.\u001b[K\n",
            "remote: Counting objects:   5% (1/19)\u001b[K\rremote: Counting objects:  10% (2/19)\u001b[K\rremote: Counting objects:  15% (3/19)\u001b[K\rremote: Counting objects:  21% (4/19)\u001b[K\rremote: Counting objects:  26% (5/19)\u001b[K\rremote: Counting objects:  31% (6/19)\u001b[K\rremote: Counting objects:  36% (7/19)\u001b[K\rremote: Counting objects:  42% (8/19)\u001b[K\rremote: Counting objects:  47% (9/19)\u001b[K\rremote: Counting objects:  52% (10/19)\u001b[K\rremote: Counting objects:  57% (11/19)\u001b[K\rremote: Counting objects:  63% (12/19)\u001b[K\rremote: Counting objects:  68% (13/19)\u001b[K\rremote: Counting objects:  73% (14/19)\u001b[K\rremote: Counting objects:  78% (15/19)\u001b[K\rremote: Counting objects:  84% (16/19)\u001b[K\rremote: Counting objects:  89% (17/19)\u001b[K\rremote: Counting objects:  94% (18/19)\u001b[K\rremote: Counting objects: 100% (19/19)\u001b[K\rremote: Counting objects: 100% (19/19), done.\u001b[K\n",
            "remote: Compressing objects:   6% (1/16)\u001b[K\rremote: Compressing objects:  12% (2/16)\u001b[K\rremote: Compressing objects:  18% (3/16)\u001b[K\rremote: Compressing objects:  25% (4/16)\u001b[K\rremote: Compressing objects:  31% (5/16)\u001b[K\rremote: Compressing objects:  37% (6/16)\u001b[K\rremote: Compressing objects:  43% (7/16)\u001b[K\rremote: Compressing objects:  50% (8/16)\u001b[K\rremote: Compressing objects:  56% (9/16)\u001b[K\rremote: Compressing objects:  62% (10/16)\u001b[K\rremote: Compressing objects:  68% (11/16)\u001b[K\rremote: Compressing objects:  75% (12/16)\u001b[K\rremote: Compressing objects:  81% (13/16)\u001b[K\rremote: Compressing objects:  87% (14/16)\u001b[K\rremote: Compressing objects:  93% (15/16)\u001b[K\rremote: Compressing objects: 100% (16/16)\u001b[K\rremote: Compressing objects: 100% (16/16), done.\u001b[K\n",
            "Unpacking objects:   5% (1/19)   \rUnpacking objects:  10% (2/19)   \rUnpacking objects:  15% (3/19)   \rUnpacking objects:  21% (4/19)   \rUnpacking objects:  26% (5/19)   \rUnpacking objects:  31% (6/19)   \rUnpacking objects:  36% (7/19)   \rUnpacking objects:  42% (8/19)   \rUnpacking objects:  47% (9/19)   \rUnpacking objects:  52% (10/19)   \rUnpacking objects:  57% (11/19)   \rUnpacking objects:  63% (12/19)   \rUnpacking objects:  68% (13/19)   \rUnpacking objects:  73% (14/19)   \rUnpacking objects:  78% (15/19)   \rUnpacking objects:  84% (16/19)   \rUnpacking objects:  89% (17/19)   \rremote: Total 19 (delta 4), reused 14 (delta 3), pack-reused 0\u001b[K\n",
            "Unpacking objects:  94% (18/19)   \rUnpacking objects: 100% (19/19)   \rUnpacking objects: 100% (19/19), done.\n"
          ],
          "name": "stdout"
        }
      ]
    },
    {
      "cell_type": "code",
      "metadata": {
        "id": "OOSYF6uqvZEE",
        "colab_type": "code",
        "colab": {}
      },
      "source": [
        "import pandas as pd\n",
        "\n",
        "df_korea_patients = pd.read_csv(PATIENT_PATH)\n",
        "df_korea_population_pyramid = pd.read_csv(PYRAMID_PATH)"
      ],
      "execution_count": 0,
      "outputs": []
    },
    {
      "cell_type": "markdown",
      "metadata": {
        "id": "25Dz4zDcves2",
        "colab_type": "text"
      },
      "source": [
        "# EDA Patients"
      ]
    },
    {
      "cell_type": "code",
      "metadata": {
        "id": "uYsDazRovgjI",
        "colab_type": "code",
        "outputId": "edd42a7e-6344-4fa8-ca43-4245bed3738d",
        "colab": {
          "base_uri": "https://localhost:8080/",
          "height": 500
        }
      },
      "source": [
        "df_korea_patients.head()\n",
        "display(df_korea_patients.head())\n",
        "display(df_korea_patients.shape)\n",
        "display(df_korea_patients.columns)\n",
        "display(df_korea_patients.iloc[:10,:10].dtypes)"
      ],
      "execution_count": 4,
      "outputs": [
        {
          "output_type": "display_data",
          "data": {
            "text/html": [
              "<div>\n",
              "<style scoped>\n",
              "    .dataframe tbody tr th:only-of-type {\n",
              "        vertical-align: middle;\n",
              "    }\n",
              "\n",
              "    .dataframe tbody tr th {\n",
              "        vertical-align: top;\n",
              "    }\n",
              "\n",
              "    .dataframe thead th {\n",
              "        text-align: right;\n",
              "    }\n",
              "</style>\n",
              "<table border=\"1\" class=\"dataframe\">\n",
              "  <thead>\n",
              "    <tr style=\"text-align: right;\">\n",
              "      <th></th>\n",
              "      <th>id</th>\n",
              "      <th>sex</th>\n",
              "      <th>birth_year</th>\n",
              "      <th>country</th>\n",
              "      <th>region</th>\n",
              "      <th>disease</th>\n",
              "      <th>group</th>\n",
              "      <th>infection_reason</th>\n",
              "      <th>infection_order</th>\n",
              "      <th>infected_by</th>\n",
              "      <th>contact_number</th>\n",
              "      <th>confirmed_date</th>\n",
              "      <th>released_date</th>\n",
              "      <th>deceased_date</th>\n",
              "      <th>state</th>\n",
              "    </tr>\n",
              "  </thead>\n",
              "  <tbody>\n",
              "    <tr>\n",
              "      <th>0</th>\n",
              "      <td>1</td>\n",
              "      <td>female</td>\n",
              "      <td>1984.0</td>\n",
              "      <td>China</td>\n",
              "      <td>filtered at airport</td>\n",
              "      <td>NaN</td>\n",
              "      <td>NaN</td>\n",
              "      <td>visit to Wuhan</td>\n",
              "      <td>1.0</td>\n",
              "      <td>NaN</td>\n",
              "      <td>45.0</td>\n",
              "      <td>2020-01-20</td>\n",
              "      <td>2020-02-06</td>\n",
              "      <td>NaN</td>\n",
              "      <td>released</td>\n",
              "    </tr>\n",
              "    <tr>\n",
              "      <th>1</th>\n",
              "      <td>2</td>\n",
              "      <td>male</td>\n",
              "      <td>1964.0</td>\n",
              "      <td>Korea</td>\n",
              "      <td>filtered at airport</td>\n",
              "      <td>NaN</td>\n",
              "      <td>NaN</td>\n",
              "      <td>visit to Wuhan</td>\n",
              "      <td>1.0</td>\n",
              "      <td>NaN</td>\n",
              "      <td>75.0</td>\n",
              "      <td>2020-01-24</td>\n",
              "      <td>2020-02-05</td>\n",
              "      <td>NaN</td>\n",
              "      <td>released</td>\n",
              "    </tr>\n",
              "    <tr>\n",
              "      <th>2</th>\n",
              "      <td>3</td>\n",
              "      <td>male</td>\n",
              "      <td>1966.0</td>\n",
              "      <td>Korea</td>\n",
              "      <td>capital area</td>\n",
              "      <td>NaN</td>\n",
              "      <td>NaN</td>\n",
              "      <td>visit to Wuhan</td>\n",
              "      <td>1.0</td>\n",
              "      <td>NaN</td>\n",
              "      <td>16.0</td>\n",
              "      <td>2020-01-26</td>\n",
              "      <td>2020-02-12</td>\n",
              "      <td>NaN</td>\n",
              "      <td>released</td>\n",
              "    </tr>\n",
              "    <tr>\n",
              "      <th>3</th>\n",
              "      <td>4</td>\n",
              "      <td>male</td>\n",
              "      <td>1964.0</td>\n",
              "      <td>Korea</td>\n",
              "      <td>capital area</td>\n",
              "      <td>NaN</td>\n",
              "      <td>NaN</td>\n",
              "      <td>visit to Wuhan</td>\n",
              "      <td>1.0</td>\n",
              "      <td>NaN</td>\n",
              "      <td>95.0</td>\n",
              "      <td>2020-01-27</td>\n",
              "      <td>2020-02-09</td>\n",
              "      <td>NaN</td>\n",
              "      <td>released</td>\n",
              "    </tr>\n",
              "    <tr>\n",
              "      <th>4</th>\n",
              "      <td>5</td>\n",
              "      <td>male</td>\n",
              "      <td>1987.0</td>\n",
              "      <td>Korea</td>\n",
              "      <td>capital area</td>\n",
              "      <td>NaN</td>\n",
              "      <td>NaN</td>\n",
              "      <td>visit to Wuhan</td>\n",
              "      <td>1.0</td>\n",
              "      <td>NaN</td>\n",
              "      <td>31.0</td>\n",
              "      <td>2020-01-30</td>\n",
              "      <td>2020-03-02</td>\n",
              "      <td>NaN</td>\n",
              "      <td>released</td>\n",
              "    </tr>\n",
              "  </tbody>\n",
              "</table>\n",
              "</div>"
            ],
            "text/plain": [
              "   id     sex  birth_year  ... released_date deceased_date     state\n",
              "0   1  female      1984.0  ...    2020-02-06           NaN  released\n",
              "1   2    male      1964.0  ...    2020-02-05           NaN  released\n",
              "2   3    male      1966.0  ...    2020-02-12           NaN  released\n",
              "3   4    male      1964.0  ...    2020-02-09           NaN  released\n",
              "4   5    male      1987.0  ...    2020-03-02           NaN  released\n",
              "\n",
              "[5 rows x 15 columns]"
            ]
          },
          "metadata": {
            "tags": []
          }
        },
        {
          "output_type": "display_data",
          "data": {
            "text/plain": [
              "(7513, 15)"
            ]
          },
          "metadata": {
            "tags": []
          }
        },
        {
          "output_type": "display_data",
          "data": {
            "text/plain": [
              "Index(['id', 'sex', 'birth_year', 'country', 'region', 'disease', 'group',\n",
              "       'infection_reason', 'infection_order', 'infected_by', 'contact_number',\n",
              "       'confirmed_date', 'released_date', 'deceased_date', 'state'],\n",
              "      dtype='object')"
            ]
          },
          "metadata": {
            "tags": []
          }
        },
        {
          "output_type": "display_data",
          "data": {
            "text/plain": [
              "id                    int64\n",
              "sex                  object\n",
              "birth_year          float64\n",
              "country              object\n",
              "region               object\n",
              "disease             float64\n",
              "group                object\n",
              "infection_reason     object\n",
              "infection_order     float64\n",
              "infected_by         float64\n",
              "dtype: object"
            ]
          },
          "metadata": {
            "tags": []
          }
        }
      ]
    },
    {
      "cell_type": "markdown",
      "metadata": {
        "id": "JtGrVLuwxhz9",
        "colab_type": "text"
      },
      "source": [
        "## Cleaning data"
      ]
    },
    {
      "cell_type": "code",
      "metadata": {
        "id": "W7H-XsFgvhq4",
        "colab_type": "code",
        "colab": {}
      },
      "source": [
        "# drop sample if sex or birth_year is NaN\n",
        "not_nan = df_korea_patients['birth_year'].notna() & df_korea_patients['sex'].notna()\n",
        "df_korea_patients = df_korea_patients[not_nan]\n",
        "# typo\n",
        "df_korea_patients[\"sex\"] = df_korea_patients[\"sex\"].replace(\"feamle\", \"female\")\n",
        "\n",
        "df_korea_patients['age'] = 2020 - df_korea_patients['birth_year'] "
      ],
      "execution_count": 0,
      "outputs": []
    },
    {
      "cell_type": "code",
      "metadata": {
        "id": "vthGDEC9Kyf_",
        "colab_type": "code",
        "outputId": "a6a2a1b0-53c2-4de5-8e97-695f9516cfab",
        "colab": {
          "base_uri": "https://localhost:8080/",
          "height": 500
        }
      },
      "source": [
        "df_korea_patients.head()\n",
        "display(df_korea_patients.head())\n",
        "display(df_korea_patients.shape)\n",
        "display(df_korea_patients.columns)\n",
        "display(df_korea_patients.iloc[:10,:10].dtypes)"
      ],
      "execution_count": 6,
      "outputs": [
        {
          "output_type": "display_data",
          "data": {
            "text/html": [
              "<div>\n",
              "<style scoped>\n",
              "    .dataframe tbody tr th:only-of-type {\n",
              "        vertical-align: middle;\n",
              "    }\n",
              "\n",
              "    .dataframe tbody tr th {\n",
              "        vertical-align: top;\n",
              "    }\n",
              "\n",
              "    .dataframe thead th {\n",
              "        text-align: right;\n",
              "    }\n",
              "</style>\n",
              "<table border=\"1\" class=\"dataframe\">\n",
              "  <thead>\n",
              "    <tr style=\"text-align: right;\">\n",
              "      <th></th>\n",
              "      <th>id</th>\n",
              "      <th>sex</th>\n",
              "      <th>birth_year</th>\n",
              "      <th>country</th>\n",
              "      <th>region</th>\n",
              "      <th>disease</th>\n",
              "      <th>group</th>\n",
              "      <th>infection_reason</th>\n",
              "      <th>infection_order</th>\n",
              "      <th>infected_by</th>\n",
              "      <th>contact_number</th>\n",
              "      <th>confirmed_date</th>\n",
              "      <th>released_date</th>\n",
              "      <th>deceased_date</th>\n",
              "      <th>state</th>\n",
              "      <th>age</th>\n",
              "    </tr>\n",
              "  </thead>\n",
              "  <tbody>\n",
              "    <tr>\n",
              "      <th>0</th>\n",
              "      <td>1</td>\n",
              "      <td>female</td>\n",
              "      <td>1984.0</td>\n",
              "      <td>China</td>\n",
              "      <td>filtered at airport</td>\n",
              "      <td>NaN</td>\n",
              "      <td>NaN</td>\n",
              "      <td>visit to Wuhan</td>\n",
              "      <td>1.0</td>\n",
              "      <td>NaN</td>\n",
              "      <td>45.0</td>\n",
              "      <td>2020-01-20</td>\n",
              "      <td>2020-02-06</td>\n",
              "      <td>NaN</td>\n",
              "      <td>released</td>\n",
              "      <td>36.0</td>\n",
              "    </tr>\n",
              "    <tr>\n",
              "      <th>1</th>\n",
              "      <td>2</td>\n",
              "      <td>male</td>\n",
              "      <td>1964.0</td>\n",
              "      <td>Korea</td>\n",
              "      <td>filtered at airport</td>\n",
              "      <td>NaN</td>\n",
              "      <td>NaN</td>\n",
              "      <td>visit to Wuhan</td>\n",
              "      <td>1.0</td>\n",
              "      <td>NaN</td>\n",
              "      <td>75.0</td>\n",
              "      <td>2020-01-24</td>\n",
              "      <td>2020-02-05</td>\n",
              "      <td>NaN</td>\n",
              "      <td>released</td>\n",
              "      <td>56.0</td>\n",
              "    </tr>\n",
              "    <tr>\n",
              "      <th>2</th>\n",
              "      <td>3</td>\n",
              "      <td>male</td>\n",
              "      <td>1966.0</td>\n",
              "      <td>Korea</td>\n",
              "      <td>capital area</td>\n",
              "      <td>NaN</td>\n",
              "      <td>NaN</td>\n",
              "      <td>visit to Wuhan</td>\n",
              "      <td>1.0</td>\n",
              "      <td>NaN</td>\n",
              "      <td>16.0</td>\n",
              "      <td>2020-01-26</td>\n",
              "      <td>2020-02-12</td>\n",
              "      <td>NaN</td>\n",
              "      <td>released</td>\n",
              "      <td>54.0</td>\n",
              "    </tr>\n",
              "    <tr>\n",
              "      <th>3</th>\n",
              "      <td>4</td>\n",
              "      <td>male</td>\n",
              "      <td>1964.0</td>\n",
              "      <td>Korea</td>\n",
              "      <td>capital area</td>\n",
              "      <td>NaN</td>\n",
              "      <td>NaN</td>\n",
              "      <td>visit to Wuhan</td>\n",
              "      <td>1.0</td>\n",
              "      <td>NaN</td>\n",
              "      <td>95.0</td>\n",
              "      <td>2020-01-27</td>\n",
              "      <td>2020-02-09</td>\n",
              "      <td>NaN</td>\n",
              "      <td>released</td>\n",
              "      <td>56.0</td>\n",
              "    </tr>\n",
              "    <tr>\n",
              "      <th>4</th>\n",
              "      <td>5</td>\n",
              "      <td>male</td>\n",
              "      <td>1987.0</td>\n",
              "      <td>Korea</td>\n",
              "      <td>capital area</td>\n",
              "      <td>NaN</td>\n",
              "      <td>NaN</td>\n",
              "      <td>visit to Wuhan</td>\n",
              "      <td>1.0</td>\n",
              "      <td>NaN</td>\n",
              "      <td>31.0</td>\n",
              "      <td>2020-01-30</td>\n",
              "      <td>2020-03-02</td>\n",
              "      <td>NaN</td>\n",
              "      <td>released</td>\n",
              "      <td>33.0</td>\n",
              "    </tr>\n",
              "  </tbody>\n",
              "</table>\n",
              "</div>"
            ],
            "text/plain": [
              "   id     sex  birth_year country  ... released_date  deceased_date     state   age\n",
              "0   1  female      1984.0   China  ...    2020-02-06            NaN  released  36.0\n",
              "1   2    male      1964.0   Korea  ...    2020-02-05            NaN  released  56.0\n",
              "2   3    male      1966.0   Korea  ...    2020-02-12            NaN  released  54.0\n",
              "3   4    male      1964.0   Korea  ...    2020-02-09            NaN  released  56.0\n",
              "4   5    male      1987.0   Korea  ...    2020-03-02            NaN  released  33.0\n",
              "\n",
              "[5 rows x 16 columns]"
            ]
          },
          "metadata": {
            "tags": []
          }
        },
        {
          "output_type": "display_data",
          "data": {
            "text/plain": [
              "(648, 16)"
            ]
          },
          "metadata": {
            "tags": []
          }
        },
        {
          "output_type": "display_data",
          "data": {
            "text/plain": [
              "Index(['id', 'sex', 'birth_year', 'country', 'region', 'disease', 'group',\n",
              "       'infection_reason', 'infection_order', 'infected_by', 'contact_number',\n",
              "       'confirmed_date', 'released_date', 'deceased_date', 'state', 'age'],\n",
              "      dtype='object')"
            ]
          },
          "metadata": {
            "tags": []
          }
        },
        {
          "output_type": "display_data",
          "data": {
            "text/plain": [
              "id                    int64\n",
              "sex                  object\n",
              "birth_year          float64\n",
              "country              object\n",
              "region               object\n",
              "disease             float64\n",
              "group                object\n",
              "infection_reason     object\n",
              "infection_order     float64\n",
              "infected_by         float64\n",
              "dtype: object"
            ]
          },
          "metadata": {
            "tags": []
          }
        }
      ]
    },
    {
      "cell_type": "markdown",
      "metadata": {
        "id": "5_mRjVDOJ1SH",
        "colab_type": "text"
      },
      "source": [
        "## Distribution"
      ]
    },
    {
      "cell_type": "code",
      "metadata": {
        "id": "hwARObPGHs3f",
        "colab_type": "code",
        "outputId": "4d8bc0d7-9ba2-446c-a147-eedc76fe0cfc",
        "colab": {
          "base_uri": "https://localhost:8080/",
          "height": 388
        }
      },
      "source": [
        "import seaborn as sns\n",
        "import matplotlib.pyplot as plt\n",
        "\n",
        "plt.figure(figsize=(10,6))\n",
        "sns.violinplot(x=\"state\", y=\"age\", hue=\"sex\", data=df_korea_patients, \n",
        "               palette={\"female\": (0.9333333333333333, 0.5215686274509804, 0.2901960784313726), \n",
        "                        \"male\": (0.2823529411764706, 0.47058823529411764, 0.8156862745098039)}, \n",
        "               split=True)\n",
        "plt.show()"
      ],
      "execution_count": 7,
      "outputs": [
        {
          "output_type": "display_data",
          "data": {
            "image/png": "[encoded data removed]",
            "text/plain": [
              "<Figure size 720x432 with 1 Axes>"
            ]
          },
          "metadata": {
            "tags": []
          }
        }
      ]
    },
    {
      "cell_type": "markdown",
      "metadata": {
        "id": "l3hmfOA5KMjD",
        "colab_type": "text"
      },
      "source": [
        "## Age pyramid"
      ]
    },
    {
      "cell_type": "code",
      "metadata": {
        "id": "LS3Wpu2nKMJZ",
        "colab_type": "code",
        "outputId": "5cce2bbb-9897-4f9e-923a-4a1b803c70fa",
        "colab": {
          "base_uri": "https://localhost:8080/",
          "height": 624
        }
      },
      "source": [
        "df_korea_population_pyramid.plot.barh(figsize=(14, 10), x=\"age_range\")\n",
        "plt.xlabel(\"Population\")\n",
        "plt.ylabel(\"Age range\")\n",
        "plt.legend()"
      ],
      "execution_count": 8,
      "outputs": [
        {
          "output_type": "execute_result",
          "data": {
            "text/plain": [
              "<matplotlib.legend.Legend at 0x7fb513348940>"
            ]
          },
          "metadata": {
            "tags": []
          },
          "execution_count": 8
        },
        {
          "output_type": "display_data",
          "data": {
            "image/png": "[encoded data removed]",
            "text/plain": [
              "<Figure size 1008x720 with 1 Axes>"
            ]
          },
          "metadata": {
            "tags": []
          }
        }
      ]
    },
    {
      "cell_type": "markdown",
      "metadata": {
        "id": "zZFaf6znxr10",
        "colab_type": "text"
      },
      "source": [
        "### Adding age range "
      ]
    },
    {
      "cell_type": "code",
      "metadata": {
        "id": "LpIBnsA6xore",
        "colab_type": "code",
        "colab": {}
      },
      "source": [
        "import math\n",
        "import numpy as np\n",
        "import matplotlib.pyplot as plt\n",
        "\n",
        "def group_age(age, window):\n",
        "  if age > 99:\n",
        "    return \"100+\"\n",
        "  if age % 5 != 0:\n",
        "      lower = int(math.floor(age / float(window))) * window\n",
        "      upper = int(math.ceil(age / float(window))) * window - 1\n",
        "      return f\"{lower}-{upper}\"\n",
        "  else:\n",
        "      lower = int(age)\n",
        "      upper = int(age + window - 1) \n",
        "      return f\"{lower}-{upper}\"\n",
        "\n",
        "def group_age_by_5(age):\n",
        "  return group_age(age, 5)"
      ],
      "execution_count": 0,
      "outputs": []
    },
    {
      "cell_type": "code",
      "metadata": {
        "id": "-0M-ROFFxqTB",
        "colab_type": "code",
        "colab": {}
      },
      "source": [
        "df_korea_patients[\"age_range\"] = df_korea_patients[\"age\"].apply(group_age_by_5)"
      ],
      "execution_count": 0,
      "outputs": []
    },
    {
      "cell_type": "markdown",
      "metadata": {
        "id": "jBRFHtDhxnqf",
        "colab_type": "text"
      },
      "source": [
        "### Age range dictionary for ordering values"
      ]
    },
    {
      "cell_type": "code",
      "metadata": {
        "id": "t1rveQSBxnMa",
        "colab_type": "code",
        "colab": {}
      },
      "source": [
        "age_range_order = df_korea_population_pyramid[\"age_range\"].to_dict()\n",
        "age_range_order = {v: k for k, v in age_range_order.items()}"
      ],
      "execution_count": 0,
      "outputs": []
    },
    {
      "cell_type": "markdown",
      "metadata": {
        "id": "BMQVL-UXCyLH",
        "colab_type": "text"
      },
      "source": [
        "### Age pyramid proportion"
      ]
    },
    {
      "cell_type": "code",
      "metadata": {
        "id": "gpkTf3f9xkd6",
        "colab_type": "code",
        "colab": {}
      },
      "source": [
        "total_male = sum(df_korea_population_pyramid.loc[:,'male'])\n",
        "total_female = sum(df_korea_population_pyramid.loc[:,'female'])\n",
        "\n",
        "df_korea_population_pyramid[\"male\"] = df_korea_population_pyramid[\"male\"] / total_male\n",
        "df_korea_population_pyramid[\"female\"] = df_korea_population_pyramid[\"female\"] / total_female"
      ],
      "execution_count": 0,
      "outputs": []
    },
    {
      "cell_type": "markdown",
      "metadata": {
        "id": "4D5YMuXjDEfV",
        "colab_type": "text"
      },
      "source": [
        ""
      ]
    },
    {
      "cell_type": "code",
      "metadata": {
        "id": "N0sIgnuMC4e2",
        "colab_type": "code",
        "colab": {}
      },
      "source": [
        "def infected_population_normed(df):\n",
        "  result = df.groupby([\"age_range\", \"sex\"], as_index=False)[\"age_range\", \"sex\"].size()\n",
        "  \n",
        "  result = (\n",
        "    pd.DataFrame(result)\n",
        "    .pivot_table(index=[\"age_range\"], columns=[\"sex\"], fill_value=0.0)\n",
        "    .reset_index()\n",
        "  )\n",
        "\n",
        "  result = result.set_index(\"age_range\")\n",
        "  \n",
        "  result = result[0]\n",
        "  result[\"order\"] = [age_range_order[x] for x in result.index]\n",
        "  result = result.sort_values(by=\"order\")\n",
        "  \n",
        "  indices = [age_range_order[x] for x in result.index]\n",
        "  df_normed = pd.DataFrame(index=df_korea_population_pyramid[\"age_range\"], columns=[\"male\",\"female\"])\n",
        "\n",
        "  df_normed.loc[result.index, \"male\"] = result[\"male\"] / df_korea_population_pyramid.loc[indices][\"male\"].values\n",
        "  df_normed.loc[result.index, \"female\"] = result[\"female\"] / df_korea_population_pyramid.loc[indices][\"female\"].values\n",
        "\n",
        "  df_normed = df_normed.replace(np.inf, 0)\n",
        "  df_normed = df_normed.replace(np.nan, 0)\n",
        "\n",
        "  df_normed[\"male\"] = df_normed[\"male\"] * 100 / sum(df_normed[\"male\"])\n",
        "  df_normed[\"female\"] = df_normed[\"female\"] * 100 / sum(df_normed[\"female\"])\n",
        "\n",
        "  distribution_normed = pd.DataFrame({'male': df_normed[\"male\"], 'female': df_normed[\"female\"]})\n",
        "  distribution_normed = distribution_normed.reset_index()\n",
        "\n",
        "  return distribution_normed"
      ],
      "execution_count": 0,
      "outputs": []
    },
    {
      "cell_type": "code",
      "metadata": {
        "id": "TctcCon6QD9a",
        "colab_type": "code",
        "colab": {}
      },
      "source": [
        "def plot_normed_distribution(df):\n",
        "  distribution_normed = infected_population_normed(df)\n",
        "\n",
        "  df = pd.DataFrame({'male': distribution_normed['male'].values, 'female': distribution_normed['female'].values}, index=distribution_normed[\"age_range\"])\n",
        "  df.plot.barh(figsize=(14, 10))\n",
        "\n",
        "  plt.xlabel(\"Proportion %\")\n",
        "  plt.ylabel(\"Age range\")\n",
        "  plt.legend()"
      ],
      "execution_count": 0,
      "outputs": []
    },
    {
      "cell_type": "markdown",
      "metadata": {
        "id": "KsPvfkF3POLs",
        "colab_type": "text"
      },
      "source": [
        "## Normed distribution of all"
      ]
    },
    {
      "cell_type": "code",
      "metadata": {
        "id": "UtR8UxS_EFAp",
        "colab_type": "code",
        "outputId": "b849faf5-5a33-48aa-ac8b-eef7b2683e4f",
        "colab": {
          "base_uri": "https://localhost:8080/",
          "height": 624
        }
      },
      "source": [
        "display(df_korea_patients.shape)\n",
        "plot_normed_distribution(df_korea_patients)"
      ],
      "execution_count": 15,
      "outputs": [
        {
          "output_type": "display_data",
          "data": {
            "text/plain": [
              "(648, 17)"
            ]
          },
          "metadata": {
            "tags": []
          }
        },
        {
          "output_type": "display_data",
          "data": {
            "image/png": "[encoded data removed]",
            "text/plain": [
              "<Figure size 1008x720 with 1 Axes>"
            ]
          },
          "metadata": {
            "tags": []
          }
        }
      ]
    },
    {
      "cell_type": "markdown",
      "metadata": {
        "id": "hTpkrW-VPVQM",
        "colab_type": "text"
      },
      "source": [
        "## Normed proportion of **deceased**"
      ]
    },
    {
      "cell_type": "code",
      "metadata": {
        "id": "9O93QQvaaovi",
        "colab_type": "code",
        "outputId": "20303b02-6135-4673-cad1-68ad4b550374",
        "colab": {
          "base_uri": "https://localhost:8080/",
          "height": 624
        }
      },
      "source": [
        "df_deceased = df_korea_patients[df_korea_patients[\"state\"] == \"deceased\"]\n",
        "display(df_deceased.shape)\n",
        "plot_normed_distribution(df_deceased)"
      ],
      "execution_count": 16,
      "outputs": [
        {
          "output_type": "display_data",
          "data": {
            "text/plain": [
              "(36, 17)"
            ]
          },
          "metadata": {
            "tags": []
          }
        },
        {
          "output_type": "display_data",
          "data": {
            "image/png": "[encoded data removed]",
            "text/plain": [
              "<Figure size 1008x720 with 1 Axes>"
            ]
          },
          "metadata": {
            "tags": []
          }
        }
      ]
    },
    {
      "cell_type": "markdown",
      "metadata": {
        "id": "KoxbBKdnPfU2",
        "colab_type": "text"
      },
      "source": [
        "## Normed proportion of **released**"
      ]
    },
    {
      "cell_type": "code",
      "metadata": {
        "id": "W5O2u_kFPotq",
        "colab_type": "code",
        "outputId": "e7cdbf47-2913-4fcd-b2ac-4b1619167e40",
        "colab": {
          "base_uri": "https://localhost:8080/",
          "height": 624
        }
      },
      "source": [
        "df_released = df_korea_patients[df_korea_patients[\"state\"] == \"released\"]\n",
        "display(df_released.shape)\n",
        "plot_normed_distribution(df_released)"
      ],
      "execution_count": 17,
      "outputs": [
        {
          "output_type": "display_data",
          "data": {
            "text/plain": [
              "(55, 17)"
            ]
          },
          "metadata": {
            "tags": []
          }
        },
        {
          "output_type": "display_data",
          "data": {
            "image/png": "[encoded data removed]",
            "text/plain": [
              "<Figure size 1008x720 with 1 Axes>"
            ]
          },
          "metadata": {
            "tags": []
          }
        }
      ]
    }
  ]
}