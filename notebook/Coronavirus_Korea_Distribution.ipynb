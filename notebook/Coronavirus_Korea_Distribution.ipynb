{
  "nbformat": 4,
  "nbformat_minor": 0,
  "metadata": {
    "colab": {
      "name": "Coronavirus-Korea-Distribution.ipynb",
      "provenance": [],
      "collapsed_sections": []
    },
    "kernelspec": {
      "name": "python3",
      "display_name": "Python 3"
    }
  },
  "cells": [
    {
      "cell_type": "markdown",
      "metadata": {
        "id": "o9atowQsvbIe",
        "colab_type": "text"
      },
      "source": [
        "# Import Data"
      ]
    },
    {
      "cell_type": "code",
      "metadata": {
        "id": "PQ5k695hvYCR",
        "colab_type": "code",
        "outputId": "5ba1903d-41d1-40b0-c822-71db28e8540b",
        "colab": {
          "base_uri": "https://localhost:8080/",
          "height": 146
        }
      },
      "source": [
        "import os\n",
        "\n",
        "!git clone https://github.com/jihoo-kim/Coronavirus-Dataset\n",
        "PATIENT_PATH = \"/content/Coronavirus-Dataset/patient.csv\""
      ],
      "execution_count": 1,
      "outputs": [
        {
          "output_type": "stream",
          "text": [
            "Cloning into 'Coronavirus-Dataset'...\n",
            "remote: Enumerating objects: 46, done.\u001b[K\n",
            "remote: Counting objects:   2% (1/46)\u001b[K\rremote: Counting objects:   4% (2/46)\u001b[K\rremote: Counting objects:   6% (3/46)\u001b[K\rremote: Counting objects:   8% (4/46)\u001b[K\rremote: Counting objects:  10% (5/46)\u001b[K\rremote: Counting objects:  13% (6/46)\u001b[K\rremote: Counting objects:  15% (7/46)\u001b[K\rremote: Counting objects:  17% (8/46)\u001b[K\rremote: Counting objects:  19% (9/46)\u001b[K\rremote: Counting objects:  21% (10/46)\u001b[K\rremote: Counting objects:  23% (11/46)\u001b[K\rremote: Counting objects:  26% (12/46)\u001b[K\rremote: Counting objects:  28% (13/46)\u001b[K\rremote: Counting objects:  30% (14/46)\u001b[K\rremote: Counting objects:  32% (15/46)\u001b[K\rremote: Counting objects:  34% (16/46)\u001b[K\rremote: Counting objects:  36% (17/46)\u001b[K\rremote: Counting objects:  39% (18/46)\u001b[K\rremote: Counting objects:  41% (19/46)\u001b[K\rremote: Counting objects:  43% (20/46)\u001b[K\rremote: Counting objects:  45% (21/46)\u001b[K\rremote: Counting objects:  47% (22/46)\u001b[K\rremote: Counting objects:  50% (23/46)\u001b[K\rremote: Counting objects:  52% (24/46)\u001b[K\rremote: Counting objects:  54% (25/46)\u001b[K\rremote: Counting objects:  56% (26/46)\u001b[K\rremote: Counting objects:  58% (27/46)\u001b[K\rremote: Counting objects:  60% (28/46)\u001b[K\rremote: Counting objects:  63% (29/46)\u001b[K\rremote: Counting objects:  65% (30/46)\u001b[K\rremote: Counting objects:  67% (31/46)\u001b[K\rremote: Counting objects:  69% (32/46)\u001b[K\rremote: Counting objects:  71% (33/46)\u001b[K\rremote: Counting objects:  73% (34/46)\u001b[K\rremote: Counting objects:  76% (35/46)\u001b[K\rremote: Counting objects:  78% (36/46)\u001b[K\rremote: Counting objects:  80% (37/46)\u001b[K\rremote: Counting objects:  82% (38/46)\u001b[K\rremote: Counting objects:  84% (39/46)\u001b[K\rremote: Counting objects:  86% (40/46)\u001b[K\rremote: Counting objects:  89% (41/46)\u001b[K\rremote: Counting objects:  91% (42/46)\u001b[K\rremote: Counting objects:  93% (43/46)\u001b[K\rremote: Counting objects:  95% (44/46)\u001b[K\rremote: Counting objects:  97% (45/46)\u001b[K\rremote: Counting objects: 100% (46/46)\u001b[K\rremote: Counting objects: 100% (46/46), done.\u001b[K\n",
            "remote: Compressing objects:   2% (1/46)\u001b[K\rremote: Compressing objects:   4% (2/46)\u001b[K\rremote: Compressing objects:   6% (3/46)\u001b[K\rremote: Compressing objects:   8% (4/46)\u001b[K\rremote: Compressing objects:  10% (5/46)\u001b[K\rremote: Compressing objects:  13% (6/46)\u001b[K\rremote: Compressing objects:  15% (7/46)\u001b[K\rremote: Compressing objects:  17% (8/46)\u001b[K\rremote: Compressing objects:  19% (9/46)\u001b[K\rremote: Compressing objects:  21% (10/46)\u001b[K\rremote: Compressing objects:  23% (11/46)\u001b[K\rremote: Compressing objects:  26% (12/46)\u001b[K\rremote: Compressing objects:  28% (13/46)\u001b[K\rremote: Compressing objects:  30% (14/46)\u001b[K\rremote: Compressing objects:  32% (15/46)\u001b[K\rremote: Compressing objects:  34% (16/46)\u001b[K\rremote: Compressing objects:  36% (17/46)\u001b[K\rremote: Compressing objects:  39% (18/46)\u001b[K\rremote: Compressing objects:  41% (19/46)\u001b[K\rremote: Compressing objects:  43% (20/46)\u001b[K\rremote: Compressing objects:  45% (21/46)\u001b[K\rremote: Compressing objects:  47% (22/46)\u001b[K\rremote: Compressing objects:  50% (23/46)\u001b[K\rremote: Compressing objects:  52% (24/46)\u001b[K\rremote: Compressing objects:  54% (25/46)\u001b[K\rremote: Compressing objects:  56% (26/46)\u001b[K\rremote: Compressing objects:  58% (27/46)\u001b[K\rremote: Compressing objects:  60% (28/46)\u001b[K\rremote: Compressing objects:  63% (29/46)\u001b[K\rremote: Compressing objects:  65% (30/46)\u001b[K\rremote: Compressing objects:  67% (31/46)\u001b[K\rremote: Compressing objects:  69% (32/46)\u001b[K\rremote: Compressing objects:  71% (33/46)\u001b[K\rremote: Compressing objects:  73% (34/46)\u001b[K\rremote: Compressing objects:  76% (35/46)\u001b[K\rremote: Compressing objects:  78% (36/46)\u001b[K\rremote: Compressing objects:  80% (37/46)\u001b[K\rremote: Compressing objects:  82% (38/46)\u001b[K\rremote: Compressing objects:  84% (39/46)\u001b[K\rremote: Compressing objects:  86% (40/46)\u001b[K\rremote: Compressing objects:  89% (41/46)\u001b[K\rremote: Compressing objects:  91% (42/46)\u001b[K\rremote: Compressing objects:  93% (43/46)\u001b[K\rremote: Compressing objects:  95% (44/46)\u001b[K\rremote: Compressing objects:  97% (45/46)\u001b[K\rremote: Compressing objects: 100% (46/46)\u001b[K\rremote: Compressing objects: 100% (46/46), done.\u001b[K\n",
            "Receiving objects:   0% (1/456)   \rReceiving objects:   1% (5/456)   \rReceiving objects:   2% (10/456)   \rReceiving objects:   3% (14/456)   \rReceiving objects:   4% (19/456)   \rReceiving objects:   5% (23/456)   \rReceiving objects:   6% (28/456)   \rReceiving objects:   7% (32/456)   \rReceiving objects:   8% (37/456)   \rReceiving objects:   9% (42/456)   \rReceiving objects:  10% (46/456)   \rReceiving objects:  11% (51/456)   \rReceiving objects:  12% (55/456)   \rReceiving objects:  13% (60/456)   \rReceiving objects:  14% (64/456)   \rReceiving objects:  15% (69/456)   \rReceiving objects:  16% (73/456)   \rReceiving objects:  17% (78/456)   \rReceiving objects:  18% (83/456)   \rReceiving objects:  19% (87/456)   \rReceiving objects:  20% (92/456)   \rReceiving objects:  21% (96/456)   \rReceiving objects:  22% (101/456)   \rReceiving objects:  23% (105/456)   \rReceiving objects:  24% (110/456)   \rReceiving objects:  25% (114/456)   \rReceiving objects:  26% (119/456)   \rReceiving objects:  27% (124/456)   \rReceiving objects:  28% (128/456)   \rReceiving objects:  29% (133/456)   \rReceiving objects:  30% (137/456)   \rReceiving objects:  31% (142/456)   \rReceiving objects:  32% (146/456)   \rReceiving objects:  33% (151/456)   \rReceiving objects:  34% (156/456)   \rReceiving objects:  35% (160/456)   \rReceiving objects:  36% (165/456)   \rReceiving objects:  37% (169/456)   \rReceiving objects:  38% (174/456)   \rReceiving objects:  39% (178/456)   \rReceiving objects:  40% (183/456)   \rReceiving objects:  41% (187/456)   \rReceiving objects:  42% (192/456)   \rReceiving objects:  43% (197/456)   \rReceiving objects:  44% (201/456)   \rReceiving objects:  45% (206/456)   \rReceiving objects:  46% (210/456)   \rReceiving objects:  47% (215/456)   \rReceiving objects:  48% (219/456)   \rReceiving objects:  49% (224/456)   \rReceiving objects:  50% (228/456)   \rReceiving objects:  51% (233/456)   \rReceiving objects:  52% (238/456)   \rReceiving objects:  53% (242/456)   \rReceiving objects:  54% (247/456)   \rReceiving objects:  55% (251/456)   \rReceiving objects:  56% (256/456)   \rReceiving objects:  57% (260/456)   \rReceiving objects:  58% (265/456)   \rReceiving objects:  59% (270/456)   \rReceiving objects:  60% (274/456)   \rReceiving objects:  61% (279/456)   \rReceiving objects:  62% (283/456)   \rReceiving objects:  63% (288/456)   \rReceiving objects:  64% (292/456)   \rReceiving objects:  65% (297/456)   \rReceiving objects:  66% (301/456)   \rReceiving objects:  67% (306/456)   \rReceiving objects:  68% (311/456)   \rReceiving objects:  69% (315/456)   \rReceiving objects:  70% (320/456)   \rReceiving objects:  71% (324/456)   \rReceiving objects:  72% (329/456)   \rremote: Total 456 (delta 22), reused 0 (delta 0), pack-reused 410\u001b[K\n",
            "Receiving objects:  73% (333/456)   \rReceiving objects:  74% (338/456)   \rReceiving objects:  75% (342/456)   \rReceiving objects:  76% (347/456)   \rReceiving objects:  77% (352/456)   \rReceiving objects:  78% (356/456)   \rReceiving objects:  79% (361/456)   \rReceiving objects:  80% (365/456)   \rReceiving objects:  81% (370/456)   \rReceiving objects:  82% (374/456)   \rReceiving objects:  83% (379/456)   \rReceiving objects:  84% (384/456)   \rReceiving objects:  85% (388/456)   \rReceiving objects:  86% (393/456)   \rReceiving objects:  87% (397/456)   \rReceiving objects:  88% (402/456)   \rReceiving objects:  89% (406/456)   \rReceiving objects:  90% (411/456)   \rReceiving objects:  91% (415/456)   \rReceiving objects:  92% (420/456)   \rReceiving objects:  93% (425/456)   \rReceiving objects:  94% (429/456)   \rReceiving objects:  95% (434/456)   \rReceiving objects:  96% (438/456)   \rReceiving objects:  97% (443/456)   \rReceiving objects:  98% (447/456)   \rReceiving objects:  99% (452/456)   \rReceiving objects: 100% (456/456)   \rReceiving objects: 100% (456/456), 246.06 KiB | 2.03 MiB/s, done.\n",
            "Resolving deltas:   0% (0/276)   \rResolving deltas:   5% (14/276)   \rResolving deltas:   6% (18/276)   \rResolving deltas:  36% (100/276)   \rResolving deltas:  38% (107/276)   \rResolving deltas:  41% (115/276)   \rResolving deltas:  44% (124/276)   \rResolving deltas:  46% (128/276)   \rResolving deltas:  48% (133/276)   \rResolving deltas:  72% (201/276)   \rResolving deltas:  73% (203/276)   \rResolving deltas:  74% (205/276)   \rResolving deltas:  81% (225/276)   \rResolving deltas:  85% (235/276)   \rResolving deltas:  87% (241/276)   \rResolving deltas:  89% (247/276)   \rResolving deltas:  90% (249/276)   \rResolving deltas: 100% (276/276)   \rResolving deltas: 100% (276/276), done.\n"
          ],
          "name": "stdout"
        }
      ]
    },
    {
      "cell_type": "code",
      "metadata": {
        "id": "o0NXOMeUw7eF",
        "colab_type": "code",
        "outputId": "391c8187-2753-4469-d4f0-bb6cb5f91c5e",
        "colab": {
          "base_uri": "https://localhost:8080/",
          "height": 127
        }
      },
      "source": [
        "import os\n",
        "\n",
        "!git clone https://github.com/ClementBM/Experiment_Coronavius.git\n",
        "PYRAMID_PATH = \"/content/Experiment_Coronavius/data/population-pyramid-south-korea.csv\""
      ],
      "execution_count": 2,
      "outputs": [
        {
          "output_type": "stream",
          "text": [
            "Cloning into 'Experiment_Coronavius'...\n",
            "remote: Enumerating objects: 37, done.\u001b[K\n",
            "remote: Counting objects:   2% (1/37)\u001b[K\rremote: Counting objects:   5% (2/37)\u001b[K\rremote: Counting objects:   8% (3/37)\u001b[K\rremote: Counting objects:  10% (4/37)\u001b[K\rremote: Counting objects:  13% (5/37)\u001b[K\rremote: Counting objects:  16% (6/37)\u001b[K\rremote: Counting objects:  18% (7/37)\u001b[K\rremote: Counting objects:  21% (8/37)\u001b[K\rremote: Counting objects:  24% (9/37)\u001b[K\rremote: Counting objects:  27% (10/37)\u001b[K\rremote: Counting objects:  29% (11/37)\u001b[K\rremote: Counting objects:  32% (12/37)\u001b[K\rremote: Counting objects:  35% (13/37)\u001b[K\rremote: Counting objects:  37% (14/37)\u001b[K\rremote: Counting objects:  40% (15/37)\u001b[K\rremote: Counting objects:  43% (16/37)\u001b[K\rremote: Counting objects:  45% (17/37)\u001b[K\rremote: Counting objects:  48% (18/37)\u001b[K\rremote: Counting objects:  51% (19/37)\u001b[K\rremote: Counting objects:  54% (20/37)\u001b[K\rremote: Counting objects:  56% (21/37)\u001b[K\rremote: Counting objects:  59% (22/37)\u001b[K\rremote: Counting objects:  62% (23/37)\u001b[K\rremote: Counting objects:  64% (24/37)\u001b[K\rremote: Counting objects:  67% (25/37)\u001b[K\rremote: Counting objects:  70% (26/37)\u001b[K\rremote: Counting objects:  72% (27/37)\u001b[K\rremote: Counting objects:  75% (28/37)\u001b[K\rremote: Counting objects:  78% (29/37)\u001b[K\rremote: Counting objects:  81% (30/37)\u001b[K\rremote: Counting objects:  83% (31/37)\u001b[K\rremote: Counting objects:  86% (32/37)\u001b[K\rremote: Counting objects:  89% (33/37)\u001b[K\rremote: Counting objects:  91% (34/37)\u001b[K\rremote: Counting objects:  94% (35/37)\u001b[K\rremote: Counting objects:  97% (36/37)\u001b[K\rremote: Counting objects: 100% (37/37)\u001b[K\rremote: Counting objects: 100% (37/37), done.\u001b[K\n",
            "remote: Compressing objects: 100% (33/33), done.\u001b[K\n",
            "remote: Total 37 (delta 12), reused 25 (delta 4), pack-reused 0\u001b[K\n",
            "Unpacking objects: 100% (37/37), done.\n"
          ],
          "name": "stdout"
        }
      ]
    },
    {
      "cell_type": "code",
      "metadata": {
        "id": "OOSYF6uqvZEE",
        "colab_type": "code",
        "colab": {}
      },
      "source": [
        "import pandas as pd\n",
        "\n",
        "df_korea_patients = pd.read_csv(PATIENT_PATH)\n",
        "df_korea_population_pyramid = pd.read_csv(PYRAMID_PATH)"
      ],
      "execution_count": 0,
      "outputs": []
    },
    {
      "cell_type": "markdown",
      "metadata": {
        "id": "25Dz4zDcves2",
        "colab_type": "text"
      },
      "source": [
        "# EDA Patients"
      ]
    },
    {
      "cell_type": "code",
      "metadata": {
        "id": "uYsDazRovgjI",
        "colab_type": "code",
        "outputId": "3a7531e6-a3d4-425e-a347-b05e9cb03d74",
        "colab": {
          "base_uri": "https://localhost:8080/",
          "height": 518
        }
      },
      "source": [
        "df_korea_patients.head()\n",
        "display(df_korea_patients.head())\n",
        "display(df_korea_patients.shape)\n",
        "display(df_korea_patients.columns)\n",
        "display(df_korea_patients.iloc[:10,:10].dtypes)"
      ],
      "execution_count": 4,
      "outputs": [
        {
          "output_type": "display_data",
          "data": {
            "text/html": [
              "<div>\n",
              "<style scoped>\n",
              "    .dataframe tbody tr th:only-of-type {\n",
              "        vertical-align: middle;\n",
              "    }\n",
              "\n",
              "    .dataframe tbody tr th {\n",
              "        vertical-align: top;\n",
              "    }\n",
              "\n",
              "    .dataframe thead th {\n",
              "        text-align: right;\n",
              "    }\n",
              "</style>\n",
              "<table border=\"1\" class=\"dataframe\">\n",
              "  <thead>\n",
              "    <tr style=\"text-align: right;\">\n",
              "      <th></th>\n",
              "      <th>patient_id</th>\n",
              "      <th>sex</th>\n",
              "      <th>birth_year</th>\n",
              "      <th>country</th>\n",
              "      <th>region</th>\n",
              "      <th>disease</th>\n",
              "      <th>group</th>\n",
              "      <th>infection_reason</th>\n",
              "      <th>infection_order</th>\n",
              "      <th>infected_by</th>\n",
              "      <th>contact_number</th>\n",
              "      <th>confirmed_date</th>\n",
              "      <th>released_date</th>\n",
              "      <th>deceased_date</th>\n",
              "      <th>state</th>\n",
              "    </tr>\n",
              "  </thead>\n",
              "  <tbody>\n",
              "    <tr>\n",
              "      <th>0</th>\n",
              "      <td>1</td>\n",
              "      <td>female</td>\n",
              "      <td>1984.0</td>\n",
              "      <td>China</td>\n",
              "      <td>filtered at airport</td>\n",
              "      <td>NaN</td>\n",
              "      <td>NaN</td>\n",
              "      <td>visit to Wuhan</td>\n",
              "      <td>1.0</td>\n",
              "      <td>NaN</td>\n",
              "      <td>45.0</td>\n",
              "      <td>2020-01-20</td>\n",
              "      <td>2020-02-06</td>\n",
              "      <td>NaN</td>\n",
              "      <td>released</td>\n",
              "    </tr>\n",
              "    <tr>\n",
              "      <th>1</th>\n",
              "      <td>2</td>\n",
              "      <td>male</td>\n",
              "      <td>1964.0</td>\n",
              "      <td>Korea</td>\n",
              "      <td>filtered at airport</td>\n",
              "      <td>NaN</td>\n",
              "      <td>NaN</td>\n",
              "      <td>visit to Wuhan</td>\n",
              "      <td>1.0</td>\n",
              "      <td>NaN</td>\n",
              "      <td>75.0</td>\n",
              "      <td>2020-01-24</td>\n",
              "      <td>2020-02-05</td>\n",
              "      <td>NaN</td>\n",
              "      <td>released</td>\n",
              "    </tr>\n",
              "    <tr>\n",
              "      <th>2</th>\n",
              "      <td>3</td>\n",
              "      <td>male</td>\n",
              "      <td>1966.0</td>\n",
              "      <td>Korea</td>\n",
              "      <td>capital area</td>\n",
              "      <td>NaN</td>\n",
              "      <td>NaN</td>\n",
              "      <td>visit to Wuhan</td>\n",
              "      <td>1.0</td>\n",
              "      <td>NaN</td>\n",
              "      <td>16.0</td>\n",
              "      <td>2020-01-26</td>\n",
              "      <td>2020-02-12</td>\n",
              "      <td>NaN</td>\n",
              "      <td>released</td>\n",
              "    </tr>\n",
              "    <tr>\n",
              "      <th>3</th>\n",
              "      <td>4</td>\n",
              "      <td>male</td>\n",
              "      <td>1964.0</td>\n",
              "      <td>Korea</td>\n",
              "      <td>capital area</td>\n",
              "      <td>NaN</td>\n",
              "      <td>NaN</td>\n",
              "      <td>visit to Wuhan</td>\n",
              "      <td>1.0</td>\n",
              "      <td>NaN</td>\n",
              "      <td>95.0</td>\n",
              "      <td>2020-01-27</td>\n",
              "      <td>2020-02-09</td>\n",
              "      <td>NaN</td>\n",
              "      <td>released</td>\n",
              "    </tr>\n",
              "    <tr>\n",
              "      <th>4</th>\n",
              "      <td>5</td>\n",
              "      <td>male</td>\n",
              "      <td>1987.0</td>\n",
              "      <td>Korea</td>\n",
              "      <td>capital area</td>\n",
              "      <td>NaN</td>\n",
              "      <td>NaN</td>\n",
              "      <td>visit to Wuhan</td>\n",
              "      <td>1.0</td>\n",
              "      <td>NaN</td>\n",
              "      <td>31.0</td>\n",
              "      <td>2020-01-30</td>\n",
              "      <td>2020-03-02</td>\n",
              "      <td>NaN</td>\n",
              "      <td>released</td>\n",
              "    </tr>\n",
              "  </tbody>\n",
              "</table>\n",
              "</div>"
            ],
            "text/plain": [
              "   patient_id     sex  birth_year  ... released_date deceased_date     state\n",
              "0           1  female      1984.0  ...    2020-02-06           NaN  released\n",
              "1           2    male      1964.0  ...    2020-02-05           NaN  released\n",
              "2           3    male      1966.0  ...    2020-02-12           NaN  released\n",
              "3           4    male      1964.0  ...    2020-02-09           NaN  released\n",
              "4           5    male      1987.0  ...    2020-03-02           NaN  released\n",
              "\n",
              "[5 rows x 15 columns]"
            ]
          },
          "metadata": {
            "tags": []
          }
        },
        {
          "output_type": "display_data",
          "data": {
            "text/plain": [
              "(7754, 15)"
            ]
          },
          "metadata": {
            "tags": []
          }
        },
        {
          "output_type": "display_data",
          "data": {
            "text/plain": [
              "Index(['patient_id', 'sex', 'birth_year', 'country', 'region', 'disease',\n",
              "       'group', 'infection_reason', 'infection_order', 'infected_by',\n",
              "       'contact_number', 'confirmed_date', 'released_date', 'deceased_date',\n",
              "       'state'],\n",
              "      dtype='object')"
            ]
          },
          "metadata": {
            "tags": []
          }
        },
        {
          "output_type": "display_data",
          "data": {
            "text/plain": [
              "patient_id            int64\n",
              "sex                  object\n",
              "birth_year          float64\n",
              "country              object\n",
              "region               object\n",
              "disease             float64\n",
              "group                object\n",
              "infection_reason     object\n",
              "infection_order     float64\n",
              "infected_by          object\n",
              "dtype: object"
            ]
          },
          "metadata": {
            "tags": []
          }
        }
      ]
    },
    {
      "cell_type": "markdown",
      "metadata": {
        "id": "JtGrVLuwxhz9",
        "colab_type": "text"
      },
      "source": [
        "## Cleaning data"
      ]
    },
    {
      "cell_type": "code",
      "metadata": {
        "id": "W7H-XsFgvhq4",
        "colab_type": "code",
        "colab": {}
      },
      "source": [
        "# drop sample if sex or birth_year is NaN\n",
        "not_nan = df_korea_patients['birth_year'].notna() & df_korea_patients['sex'].notna()\n",
        "df_korea_patients = df_korea_patients[not_nan]\n",
        "# typo\n",
        "df_korea_patients[\"sex\"] = df_korea_patients[\"sex\"].replace(\"feamle\", \"female\")\n",
        "\n",
        "df_korea_patients['age'] = 2020 - df_korea_patients['birth_year'] "
      ],
      "execution_count": 0,
      "outputs": []
    },
    {
      "cell_type": "code",
      "metadata": {
        "id": "vthGDEC9Kyf_",
        "colab_type": "code",
        "outputId": "130efb04-b74e-4d1b-a83e-b1e05fd555c2",
        "colab": {
          "base_uri": "https://localhost:8080/",
          "height": 518
        }
      },
      "source": [
        "df_korea_patients.head()\n",
        "display(df_korea_patients.head())\n",
        "display(df_korea_patients.shape)\n",
        "display(df_korea_patients.columns)\n",
        "display(df_korea_patients.iloc[:10,:10].dtypes)"
      ],
      "execution_count": 6,
      "outputs": [
        {
          "output_type": "display_data",
          "data": {
            "text/html": [
              "<div>\n",
              "<style scoped>\n",
              "    .dataframe tbody tr th:only-of-type {\n",
              "        vertical-align: middle;\n",
              "    }\n",
              "\n",
              "    .dataframe tbody tr th {\n",
              "        vertical-align: top;\n",
              "    }\n",
              "\n",
              "    .dataframe thead th {\n",
              "        text-align: right;\n",
              "    }\n",
              "</style>\n",
              "<table border=\"1\" class=\"dataframe\">\n",
              "  <thead>\n",
              "    <tr style=\"text-align: right;\">\n",
              "      <th></th>\n",
              "      <th>patient_id</th>\n",
              "      <th>sex</th>\n",
              "      <th>birth_year</th>\n",
              "      <th>country</th>\n",
              "      <th>region</th>\n",
              "      <th>disease</th>\n",
              "      <th>group</th>\n",
              "      <th>infection_reason</th>\n",
              "      <th>infection_order</th>\n",
              "      <th>infected_by</th>\n",
              "      <th>contact_number</th>\n",
              "      <th>confirmed_date</th>\n",
              "      <th>released_date</th>\n",
              "      <th>deceased_date</th>\n",
              "      <th>state</th>\n",
              "      <th>age</th>\n",
              "    </tr>\n",
              "  </thead>\n",
              "  <tbody>\n",
              "    <tr>\n",
              "      <th>0</th>\n",
              "      <td>1</td>\n",
              "      <td>female</td>\n",
              "      <td>1984.0</td>\n",
              "      <td>China</td>\n",
              "      <td>filtered at airport</td>\n",
              "      <td>NaN</td>\n",
              "      <td>NaN</td>\n",
              "      <td>visit to Wuhan</td>\n",
              "      <td>1.0</td>\n",
              "      <td>NaN</td>\n",
              "      <td>45.0</td>\n",
              "      <td>2020-01-20</td>\n",
              "      <td>2020-02-06</td>\n",
              "      <td>NaN</td>\n",
              "      <td>released</td>\n",
              "      <td>36.0</td>\n",
              "    </tr>\n",
              "    <tr>\n",
              "      <th>1</th>\n",
              "      <td>2</td>\n",
              "      <td>male</td>\n",
              "      <td>1964.0</td>\n",
              "      <td>Korea</td>\n",
              "      <td>filtered at airport</td>\n",
              "      <td>NaN</td>\n",
              "      <td>NaN</td>\n",
              "      <td>visit to Wuhan</td>\n",
              "      <td>1.0</td>\n",
              "      <td>NaN</td>\n",
              "      <td>75.0</td>\n",
              "      <td>2020-01-24</td>\n",
              "      <td>2020-02-05</td>\n",
              "      <td>NaN</td>\n",
              "      <td>released</td>\n",
              "      <td>56.0</td>\n",
              "    </tr>\n",
              "    <tr>\n",
              "      <th>2</th>\n",
              "      <td>3</td>\n",
              "      <td>male</td>\n",
              "      <td>1966.0</td>\n",
              "      <td>Korea</td>\n",
              "      <td>capital area</td>\n",
              "      <td>NaN</td>\n",
              "      <td>NaN</td>\n",
              "      <td>visit to Wuhan</td>\n",
              "      <td>1.0</td>\n",
              "      <td>NaN</td>\n",
              "      <td>16.0</td>\n",
              "      <td>2020-01-26</td>\n",
              "      <td>2020-02-12</td>\n",
              "      <td>NaN</td>\n",
              "      <td>released</td>\n",
              "      <td>54.0</td>\n",
              "    </tr>\n",
              "    <tr>\n",
              "      <th>3</th>\n",
              "      <td>4</td>\n",
              "      <td>male</td>\n",
              "      <td>1964.0</td>\n",
              "      <td>Korea</td>\n",
              "      <td>capital area</td>\n",
              "      <td>NaN</td>\n",
              "      <td>NaN</td>\n",
              "      <td>visit to Wuhan</td>\n",
              "      <td>1.0</td>\n",
              "      <td>NaN</td>\n",
              "      <td>95.0</td>\n",
              "      <td>2020-01-27</td>\n",
              "      <td>2020-02-09</td>\n",
              "      <td>NaN</td>\n",
              "      <td>released</td>\n",
              "      <td>56.0</td>\n",
              "    </tr>\n",
              "    <tr>\n",
              "      <th>4</th>\n",
              "      <td>5</td>\n",
              "      <td>male</td>\n",
              "      <td>1987.0</td>\n",
              "      <td>Korea</td>\n",
              "      <td>capital area</td>\n",
              "      <td>NaN</td>\n",
              "      <td>NaN</td>\n",
              "      <td>visit to Wuhan</td>\n",
              "      <td>1.0</td>\n",
              "      <td>NaN</td>\n",
              "      <td>31.0</td>\n",
              "      <td>2020-01-30</td>\n",
              "      <td>2020-03-02</td>\n",
              "      <td>NaN</td>\n",
              "      <td>released</td>\n",
              "      <td>33.0</td>\n",
              "    </tr>\n",
              "  </tbody>\n",
              "</table>\n",
              "</div>"
            ],
            "text/plain": [
              "   patient_id     sex  birth_year  ... deceased_date     state   age\n",
              "0           1  female      1984.0  ...           NaN  released  36.0\n",
              "1           2    male      1964.0  ...           NaN  released  56.0\n",
              "2           3    male      1966.0  ...           NaN  released  54.0\n",
              "3           4    male      1964.0  ...           NaN  released  56.0\n",
              "4           5    male      1987.0  ...           NaN  released  33.0\n",
              "\n",
              "[5 rows x 16 columns]"
            ]
          },
          "metadata": {
            "tags": []
          }
        },
        {
          "output_type": "display_data",
          "data": {
            "text/plain": [
              "(710, 16)"
            ]
          },
          "metadata": {
            "tags": []
          }
        },
        {
          "output_type": "display_data",
          "data": {
            "text/plain": [
              "Index(['patient_id', 'sex', 'birth_year', 'country', 'region', 'disease',\n",
              "       'group', 'infection_reason', 'infection_order', 'infected_by',\n",
              "       'contact_number', 'confirmed_date', 'released_date', 'deceased_date',\n",
              "       'state', 'age'],\n",
              "      dtype='object')"
            ]
          },
          "metadata": {
            "tags": []
          }
        },
        {
          "output_type": "display_data",
          "data": {
            "text/plain": [
              "patient_id            int64\n",
              "sex                  object\n",
              "birth_year          float64\n",
              "country              object\n",
              "region               object\n",
              "disease             float64\n",
              "group                object\n",
              "infection_reason     object\n",
              "infection_order     float64\n",
              "infected_by          object\n",
              "dtype: object"
            ]
          },
          "metadata": {
            "tags": []
          }
        }
      ]
    },
    {
      "cell_type": "markdown",
      "metadata": {
        "id": "5_mRjVDOJ1SH",
        "colab_type": "text"
      },
      "source": [
        "## Distribution"
      ]
    },
    {
      "cell_type": "code",
      "metadata": {
        "id": "hwARObPGHs3f",
        "colab_type": "code",
        "outputId": "309748ca-bfb3-48fc-ce68-cf6c49c29469",
        "colab": {
          "base_uri": "https://localhost:8080/",
          "height": 606
        }
      },
      "source": [
        "import seaborn as sns\n",
        "import matplotlib.pyplot as plt\n",
        "\n",
        "plt.figure(figsize=(14,10))\n",
        "sns.violinplot(x=\"state\", y=\"age\", hue=\"sex\", data=df_korea_patients,\n",
        "               order=[\"deceased\", \"isolated\", \"released\"], \n",
        "               palette={\"female\": \"#d98b5f\", \n",
        "                        \"male\": \"#597dbf\"}, \n",
        "               split=True)\n",
        "plt.show()"
      ],
      "execution_count": 7,
      "outputs": [
        {
          "output_type": "display_data",
          "data": {
            "image/png": "[encoded data removed]",
            "text/plain": [
              "<Figure size 1008x720 with 1 Axes>"
            ]
          },
          "metadata": {
            "tags": []
          }
        }
      ]
    },
    {
      "cell_type": "code",
      "metadata": {
        "id": "2s5MPLQ8B_lt",
        "colab_type": "code",
        "outputId": "d0430fc2-afb8-445f-eb1c-5652b72635c2",
        "colab": {
          "base_uri": "https://localhost:8080/",
          "height": 644
        }
      },
      "source": [
        "df_korea_patients_by_age_sex = df_korea_patients.groupby([\"state\", \"sex\"], \n",
        "                                                         as_index=False)[\"state\", \"sex\"].size()\n",
        "\n",
        "df_korea_patients_by_age_sex.unstack().plot(kind='bar', \n",
        "                                            color=['#d98b5f', '#597dbf'],\n",
        "                                            figsize=(14, 10))\n",
        "\n",
        "plt.show()"
      ],
      "execution_count": 8,
      "outputs": [
        {
          "output_type": "display_data",
          "data": {
            "image/png": "[encoded data removed]",
            "text/plain": [
              "<Figure size 1008x720 with 1 Axes>"
            ]
          },
          "metadata": {
            "tags": []
          }
        }
      ]
    },
    {
      "cell_type": "markdown",
      "metadata": {
        "id": "l3hmfOA5KMjD",
        "colab_type": "text"
      },
      "source": [
        "## Age pyramid"
      ]
    },
    {
      "cell_type": "code",
      "metadata": {
        "id": "LS3Wpu2nKMJZ",
        "colab_type": "code",
        "outputId": "a73979f2-4c3d-4347-cb65-14b1cbbe9574",
        "colab": {
          "base_uri": "https://localhost:8080/",
          "height": 606
        }
      },
      "source": [
        "df_korea_population_pyramid.plot(kind='barh',\n",
        "                                 x=\"age_range\",\n",
        "                                 color=['#597dbf', '#d98b5f'],\n",
        "                                 figsize=(14, 10))\n",
        "plt.xlabel(\"Population\")\n",
        "plt.ylabel(\"Age range\")\n",
        "plt.legend()\n",
        "plt.show()"
      ],
      "execution_count": 9,
      "outputs": [
        {
          "output_type": "display_data",
          "data": {
            "image/png": "[encoded data removed]",
            "text/plain": [
              "<Figure size 1008x720 with 1 Axes>"
            ]
          },
          "metadata": {
            "tags": []
          }
        }
      ]
    },
    {
      "cell_type": "markdown",
      "metadata": {
        "id": "zZFaf6znxr10",
        "colab_type": "text"
      },
      "source": [
        "### Adding age range "
      ]
    },
    {
      "cell_type": "code",
      "metadata": {
        "id": "LpIBnsA6xore",
        "colab_type": "code",
        "colab": {}
      },
      "source": [
        "import math\n",
        "import numpy as np\n",
        "import matplotlib.pyplot as plt\n",
        "\n",
        "def group_age(age, window):\n",
        "  if age > 99:\n",
        "    return \"100+\"\n",
        "  if age % 5 != 0:\n",
        "      lower = int(math.floor(age / float(window))) * window\n",
        "      upper = int(math.ceil(age / float(window))) * window - 1\n",
        "      return f\"{lower}-{upper}\"\n",
        "  else:\n",
        "      lower = int(age)\n",
        "      upper = int(age + window - 1) \n",
        "      return f\"{lower}-{upper}\"\n",
        "\n",
        "def group_age_by_5(age):\n",
        "  return group_age(age, 5)"
      ],
      "execution_count": 0,
      "outputs": []
    },
    {
      "cell_type": "code",
      "metadata": {
        "id": "-0M-ROFFxqTB",
        "colab_type": "code",
        "colab": {}
      },
      "source": [
        "df_korea_patients[\"age_range\"] = df_korea_patients[\"age\"].apply(group_age_by_5)"
      ],
      "execution_count": 0,
      "outputs": []
    },
    {
      "cell_type": "markdown",
      "metadata": {
        "id": "jBRFHtDhxnqf",
        "colab_type": "text"
      },
      "source": [
        "### Age range dictionary for ordering values"
      ]
    },
    {
      "cell_type": "code",
      "metadata": {
        "id": "t1rveQSBxnMa",
        "colab_type": "code",
        "colab": {}
      },
      "source": [
        "age_range_order = df_korea_population_pyramid[\"age_range\"].to_dict()\n",
        "age_range_order = {v: k for k, v in age_range_order.items()}"
      ],
      "execution_count": 0,
      "outputs": []
    },
    {
      "cell_type": "markdown",
      "metadata": {
        "id": "BMQVL-UXCyLH",
        "colab_type": "text"
      },
      "source": [
        "### Age pyramid proportion"
      ]
    },
    {
      "cell_type": "code",
      "metadata": {
        "id": "gpkTf3f9xkd6",
        "colab_type": "code",
        "colab": {}
      },
      "source": [
        "total_male = sum(df_korea_population_pyramid.loc[:,'male'])\n",
        "total_female = sum(df_korea_population_pyramid.loc[:,'female'])\n",
        "\n",
        "df_korea_population_pyramid[\"male_prop\"] = df_korea_population_pyramid[\"male\"] / total_male\n",
        "df_korea_population_pyramid[\"female_prop\"] = df_korea_population_pyramid[\"female\"] / total_female"
      ],
      "execution_count": 0,
      "outputs": []
    },
    {
      "cell_type": "markdown",
      "metadata": {
        "id": "4D5YMuXjDEfV",
        "colab_type": "text"
      },
      "source": [
        ""
      ]
    },
    {
      "cell_type": "code",
      "metadata": {
        "id": "N0sIgnuMC4e2",
        "colab_type": "code",
        "colab": {}
      },
      "source": [
        "def infected_population_normed(df):\n",
        "  result = df.groupby([\"age_range\", \"sex\"], as_index=False)[\"age_range\", \"sex\"].size()\n",
        "  \n",
        "  result = (\n",
        "    pd.DataFrame(result)\n",
        "    .pivot_table(index=[\"age_range\"], columns=[\"sex\"], fill_value=0.0)\n",
        "    .reset_index()\n",
        "  )\n",
        "\n",
        "  result = result.set_index(\"age_range\")\n",
        "  \n",
        "  result = result[0] # unstack() ?\n",
        "  result[\"order\"] = [age_range_order[x] for x in result.index]\n",
        "  result = result.sort_values(by=\"order\")\n",
        "  \n",
        "  indices = [age_range_order[x] for x in result.index]\n",
        "  df_normed = pd.DataFrame(index=df_korea_population_pyramid[\"age_range\"], columns=[\"male\",\"female\"])\n",
        "\n",
        "  df_normed.loc[result.index, \"male\"] = result[\"male\"] / df_korea_population_pyramid.loc[indices][\"male_prop\"].values\n",
        "  df_normed.loc[result.index, \"female\"] = result[\"female\"] / df_korea_population_pyramid.loc[indices][\"female_prop\"].values\n",
        "\n",
        "  df_normed = df_normed.replace(np.inf, 0)\n",
        "  df_normed = df_normed.replace(np.nan, 0)\n",
        "\n",
        "  df_normed[\"male\"] = df_normed[\"male\"] * 100 / sum(df_normed[\"male\"])\n",
        "  df_normed[\"female\"] = df_normed[\"female\"] * 100 / sum(df_normed[\"female\"])\n",
        "\n",
        "  distribution_normed = pd.DataFrame({'male': df_normed[\"male\"], 'female': df_normed[\"female\"]})\n",
        "  distribution_normed = distribution_normed.reset_index()\n",
        "\n",
        "  return distribution_normed"
      ],
      "execution_count": 0,
      "outputs": []
    },
    {
      "cell_type": "code",
      "metadata": {
        "id": "TctcCon6QD9a",
        "colab_type": "code",
        "colab": {}
      },
      "source": [
        "def plot_normed_distribution(df):\n",
        "  distribution_normed = infected_population_normed(df)\n",
        "\n",
        "  df = pd.DataFrame({'male': distribution_normed['male'].values, 'female': distribution_normed['female'].values}, index=distribution_normed[\"age_range\"])\n",
        "  df.plot.barh(figsize=(14, 10), color=['#597dbf', '#d98b5f'])\n",
        "\n",
        "  plt.xlabel(\"Proportion %\")\n",
        "  plt.ylabel(\"Age range\")\n",
        "  plt.legend()\n",
        "  plt.show()"
      ],
      "execution_count": 0,
      "outputs": []
    },
    {
      "cell_type": "markdown",
      "metadata": {
        "id": "KsPvfkF3POLs",
        "colab_type": "text"
      },
      "source": [
        "## Normed distribution of all"
      ]
    },
    {
      "cell_type": "code",
      "metadata": {
        "id": "UtR8UxS_EFAp",
        "colab_type": "code",
        "outputId": "615b6155-5c94-481e-b26d-2b92b37b0cac",
        "colab": {
          "base_uri": "https://localhost:8080/",
          "height": 624
        }
      },
      "source": [
        "display(df_korea_patients.shape[0])\n",
        "plot_normed_distribution(df_korea_patients)"
      ],
      "execution_count": 16,
      "outputs": [
        {
          "output_type": "display_data",
          "data": {
            "text/plain": [
              "710"
            ]
          },
          "metadata": {
            "tags": []
          }
        },
        {
          "output_type": "display_data",
          "data": {
            "image/png": "[encoded data removed]",
            "text/plain": [
              "<Figure size 1008x720 with 1 Axes>"
            ]
          },
          "metadata": {
            "tags": []
          }
        }
      ]
    },
    {
      "cell_type": "code",
      "metadata": {
        "id": "UBMKgWTHbVS1",
        "colab_type": "code",
        "outputId": "604889ca-b52c-479f-edc1-85116e10ff20",
        "colab": {
          "base_uri": "https://localhost:8080/",
          "height": 239
        }
      },
      "source": [
        "display(df_korea_patients[df_korea_patients[\"age_range\"] == \"100+\"])\n",
        "display(df_korea_population_pyramid[df_korea_population_pyramid[\"age_range\"] == \"100+\"])"
      ],
      "execution_count": 17,
      "outputs": [
        {
          "output_type": "display_data",
          "data": {
            "text/html": [
              "<div>\n",
              "<style scoped>\n",
              "    .dataframe tbody tr th:only-of-type {\n",
              "        vertical-align: middle;\n",
              "    }\n",
              "\n",
              "    .dataframe tbody tr th {\n",
              "        vertical-align: top;\n",
              "    }\n",
              "\n",
              "    .dataframe thead th {\n",
              "        text-align: right;\n",
              "    }\n",
              "</style>\n",
              "<table border=\"1\" class=\"dataframe\">\n",
              "  <thead>\n",
              "    <tr style=\"text-align: right;\">\n",
              "      <th></th>\n",
              "      <th>patient_id</th>\n",
              "      <th>sex</th>\n",
              "      <th>birth_year</th>\n",
              "      <th>country</th>\n",
              "      <th>region</th>\n",
              "      <th>disease</th>\n",
              "      <th>group</th>\n",
              "      <th>infection_reason</th>\n",
              "      <th>infection_order</th>\n",
              "      <th>infected_by</th>\n",
              "      <th>contact_number</th>\n",
              "      <th>confirmed_date</th>\n",
              "      <th>released_date</th>\n",
              "      <th>deceased_date</th>\n",
              "      <th>state</th>\n",
              "      <th>age</th>\n",
              "      <th>age_range</th>\n",
              "    </tr>\n",
              "  </thead>\n",
              "  <tbody>\n",
              "    <tr>\n",
              "      <th>5659</th>\n",
              "      <td>5661</td>\n",
              "      <td>female</td>\n",
              "      <td>1905.0</td>\n",
              "      <td>Korea</td>\n",
              "      <td>capital area</td>\n",
              "      <td>NaN</td>\n",
              "      <td>NaN</td>\n",
              "      <td>contact with patient</td>\n",
              "      <td>NaN</td>\n",
              "      <td>NaN</td>\n",
              "      <td>NaN</td>\n",
              "      <td>2020-03-04</td>\n",
              "      <td>NaN</td>\n",
              "      <td>NaN</td>\n",
              "      <td>isolated</td>\n",
              "      <td>115.0</td>\n",
              "      <td>100+</td>\n",
              "    </tr>\n",
              "    <tr>\n",
              "      <th>6068</th>\n",
              "      <td>6070</td>\n",
              "      <td>male</td>\n",
              "      <td>1903.0</td>\n",
              "      <td>Korea</td>\n",
              "      <td>NaN</td>\n",
              "      <td>NaN</td>\n",
              "      <td>NaN</td>\n",
              "      <td>NaN</td>\n",
              "      <td>NaN</td>\n",
              "      <td>NaN</td>\n",
              "      <td>NaN</td>\n",
              "      <td>2020-03-04</td>\n",
              "      <td>NaN</td>\n",
              "      <td>NaN</td>\n",
              "      <td>isolated</td>\n",
              "      <td>117.0</td>\n",
              "      <td>100+</td>\n",
              "    </tr>\n",
              "    <tr>\n",
              "      <th>6843</th>\n",
              "      <td>6845</td>\n",
              "      <td>female</td>\n",
              "      <td>1913.0</td>\n",
              "      <td>Korea</td>\n",
              "      <td>capital area</td>\n",
              "      <td>NaN</td>\n",
              "      <td>NaN</td>\n",
              "      <td>contact with patient</td>\n",
              "      <td>NaN</td>\n",
              "      <td>NaN</td>\n",
              "      <td>NaN</td>\n",
              "      <td>2020-03-07</td>\n",
              "      <td>NaN</td>\n",
              "      <td>NaN</td>\n",
              "      <td>isolated</td>\n",
              "      <td>107.0</td>\n",
              "      <td>100+</td>\n",
              "    </tr>\n",
              "    <tr>\n",
              "      <th>7217</th>\n",
              "      <td>7219</td>\n",
              "      <td>female</td>\n",
              "      <td>1920.0</td>\n",
              "      <td>Korea</td>\n",
              "      <td>capital area</td>\n",
              "      <td>NaN</td>\n",
              "      <td>NaN</td>\n",
              "      <td>contact with patient</td>\n",
              "      <td>7103.0</td>\n",
              "      <td>NaN</td>\n",
              "      <td>NaN</td>\n",
              "      <td>2020-03-08</td>\n",
              "      <td>NaN</td>\n",
              "      <td>NaN</td>\n",
              "      <td>isolated</td>\n",
              "      <td>100.0</td>\n",
              "      <td>100+</td>\n",
              "    </tr>\n",
              "  </tbody>\n",
              "</table>\n",
              "</div>"
            ],
            "text/plain": [
              "      patient_id     sex  birth_year  ...     state    age  age_range\n",
              "5659        5661  female      1905.0  ...  isolated  115.0       100+\n",
              "6068        6070    male      1903.0  ...  isolated  117.0       100+\n",
              "6843        6845  female      1913.0  ...  isolated  107.0       100+\n",
              "7217        7219  female      1920.0  ...  isolated  100.0       100+\n",
              "\n",
              "[4 rows x 17 columns]"
            ]
          },
          "metadata": {
            "tags": []
          }
        },
        {
          "output_type": "display_data",
          "data": {
            "text/html": [
              "<div>\n",
              "<style scoped>\n",
              "    .dataframe tbody tr th:only-of-type {\n",
              "        vertical-align: middle;\n",
              "    }\n",
              "\n",
              "    .dataframe tbody tr th {\n",
              "        vertical-align: top;\n",
              "    }\n",
              "\n",
              "    .dataframe thead th {\n",
              "        text-align: right;\n",
              "    }\n",
              "</style>\n",
              "<table border=\"1\" class=\"dataframe\">\n",
              "  <thead>\n",
              "    <tr style=\"text-align: right;\">\n",
              "      <th></th>\n",
              "      <th>age_range</th>\n",
              "      <th>male</th>\n",
              "      <th>female</th>\n",
              "      <th>male_prop</th>\n",
              "      <th>female_prop</th>\n",
              "    </tr>\n",
              "  </thead>\n",
              "  <tbody>\n",
              "    <tr>\n",
              "      <th>20</th>\n",
              "      <td>100+</td>\n",
              "      <td>517</td>\n",
              "      <td>3350</td>\n",
              "      <td>0.00002</td>\n",
              "      <td>0.000131</td>\n",
              "    </tr>\n",
              "  </tbody>\n",
              "</table>\n",
              "</div>"
            ],
            "text/plain": [
              "   age_range  male  female  male_prop  female_prop\n",
              "20      100+   517    3350    0.00002     0.000131"
            ]
          },
          "metadata": {
            "tags": []
          }
        }
      ]
    },
    {
      "cell_type": "code",
      "metadata": {
        "id": "NRu53ZxNbZHw",
        "colab_type": "code",
        "outputId": "1e197672-d8ff-4111-9fa9-5928f5f2cbf5",
        "colab": {
          "base_uri": "https://localhost:8080/",
          "height": 624
        }
      },
      "source": [
        "display(df_korea_patients.shape[0])\n",
        "plot_normed_distribution(df_korea_patients[df_korea_patients[\"age_range\"] != \"100+\"])"
      ],
      "execution_count": 18,
      "outputs": [
        {
          "output_type": "display_data",
          "data": {
            "text/plain": [
              "710"
            ]
          },
          "metadata": {
            "tags": []
          }
        },
        {
          "output_type": "display_data",
          "data": {
            "image/png": "[encoded data removed]",
            "text/plain": [
              "<Figure size 1008x720 with 1 Axes>"
            ]
          },
          "metadata": {
            "tags": []
          }
        }
      ]
    },
    {
      "cell_type": "markdown",
      "metadata": {
        "id": "hTpkrW-VPVQM",
        "colab_type": "text"
      },
      "source": [
        "## Normed proportion of **deceased**"
      ]
    },
    {
      "cell_type": "code",
      "metadata": {
        "id": "9O93QQvaaovi",
        "colab_type": "code",
        "outputId": "248f3fa5-a00f-4de5-8e54-bcc30c0d7982",
        "colab": {
          "base_uri": "https://localhost:8080/",
          "height": 624
        }
      },
      "source": [
        "df_deceased = df_korea_patients[df_korea_patients[\"state\"] == \"deceased\"]\n",
        "display(df_deceased.shape[0])\n",
        "plot_normed_distribution(df_deceased)"
      ],
      "execution_count": 19,
      "outputs": [
        {
          "output_type": "display_data",
          "data": {
            "text/plain": [
              "36"
            ]
          },
          "metadata": {
            "tags": []
          }
        },
        {
          "output_type": "display_data",
          "data": {
            "image/png": "[encoded data removed]",
            "text/plain": [
              "<Figure size 1008x720 with 1 Axes>"
            ]
          },
          "metadata": {
            "tags": []
          }
        }
      ]
    },
    {
      "cell_type": "markdown",
      "metadata": {
        "id": "KoxbBKdnPfU2",
        "colab_type": "text"
      },
      "source": [
        "## Normed proportion of **released**"
      ]
    },
    {
      "cell_type": "code",
      "metadata": {
        "id": "W5O2u_kFPotq",
        "colab_type": "code",
        "outputId": "17c29673-bf9d-496a-e695-c9e1f2d32e3e",
        "colab": {
          "base_uri": "https://localhost:8080/",
          "height": 624
        }
      },
      "source": [
        "df_released = df_korea_patients[df_korea_patients[\"state\"] == \"released\"]\n",
        "display(df_released.shape[0])\n",
        "plot_normed_distribution(df_released)"
      ],
      "execution_count": 20,
      "outputs": [
        {
          "output_type": "display_data",
          "data": {
            "text/plain": [
              "55"
            ]
          },
          "metadata": {
            "tags": []
          }
        },
        {
          "output_type": "display_data",
          "data": {
            "image/png": "[encoded data removed]",
            "text/plain": [
              "<Figure size 1008x720 with 1 Axes>"
            ]
          },
          "metadata": {
            "tags": []
          }
        }
      ]
    },
    {
      "cell_type": "markdown",
      "metadata": {
        "id": "j1XaR6WJGSN5",
        "colab_type": "text"
      },
      "source": [
        "## Normed proportion of **isolated**"
      ]
    },
    {
      "cell_type": "code",
      "metadata": {
        "id": "XmXapceYGWDK",
        "colab_type": "code",
        "outputId": "025d81d7-7502-4f95-aee1-8367167c60ec",
        "colab": {
          "base_uri": "https://localhost:8080/",
          "height": 624
        }
      },
      "source": [
        "df_released = df_korea_patients[(df_korea_patients[\"state\"] == \"isolated\") & (df_korea_patients[\"age_range\"] != \"100+\")]\n",
        "display(df_released.shape[0])\n",
        "plot_normed_distribution(df_released)"
      ],
      "execution_count": 21,
      "outputs": [
        {
          "output_type": "display_data",
          "data": {
            "text/plain": [
              "615"
            ]
          },
          "metadata": {
            "tags": []
          }
        },
        {
          "output_type": "display_data",
          "data": {
            "image/png": "[encoded data removed]",
            "text/plain": [
              "<Figure size 1008x720 with 1 Axes>"
            ]
          },
          "metadata": {
            "tags": []
          }
        }
      ]
    }
  ]
}